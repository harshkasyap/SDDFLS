{
 "cells": [
  {
   "cell_type": "markdown",
   "metadata": {},
   "source": [
    "# What is PyGrid?"
   ]
  },
  {
   "cell_type": "markdown",
   "metadata": {},
   "source": [
    "PyGrid (also known as Grid) is a collaborative network platform for data owners and data scientists who can collectively train and share AI models using the PySyft library, which extends deep learning libraries such as PyTorch and Tensorflow.\n"
   ]
  },
  {
   "cell_type": "markdown",
   "metadata": {},
   "source": [
    "## Overview\n",
    "- [Introduction](#Introduction)\n",
    "- [Objectives](#Objectives)\n",
    "- [Implementation](#Implementation)"
   ]
  },
  {
   "cell_type": "markdown",
   "metadata": {},
   "source": [
    "### Introduction\n",
    "\n",
    "PyGrid platform aims to be a secure peer to peer platform used to train, manage and share models. A Grid is a collection of workers that can exchange messages and tensors in a transparent way.\n",
    "\n",
    "\n",
    "Grid currently supports:\n",
    "\n",
    "* Exchange of messages between remote workers like you usually would do using PySyft with Virtual Workers\n",
    "* Machine Learning as a Service (MLaaS): hosting and querying models using Grid\n",
    "* Encrypted Machine Learning as a Service (EMLaaS): hosting and querying encrypted models using Grid\n",
    "* Support for deploying and running workers on Heroku\n",
    "\n",
    "Grid will soon support:\n",
    "\n",
    "* Federated Learning processes with no need to manage distributed workers directly.\n",
    "\n",
    "\n",
    "[Try our tutorials to learn how to use Grid!](https://github.com/OpenMined/PySyft/tree/master/examples/tutorials/grid)\n"
   ]
  },
  {
   "cell_type": "markdown",
   "metadata": {},
   "source": [
    "### Objectives"
   ]
  },
  {
   "cell_type": "markdown",
   "metadata": {},
   "source": [
    "- ***Create a secure federated learning platform***\n",
    "  - Protect Intellectual Property (IP)\n",
    "  - Protect data privacy\n",
    "  - Mitigate misuse of models\n",
    "- ***Create a collaborative federated learning platform***\n",
    "  - Allow users to send plain text / anonymized datasets that can be used by other users on the grid platform\n",
    "  - Allow users to send plain text / anonymized models that can be used/improved by other users on the grid platform\n",
    "  - Perform federated learning using datasets available at the grid platform\n",
    "- ***Serve models in a secure way***\n",
    "  - Run remote plain text / anonymized inferences on models hosted on grid network\n",
    "  - Download models hosted on grid network\n",
    "  - Perform arbitrary arithmetical / logic computing using anonymized datasets\n",
    "  - Provide fault tolerance\n",
    "  \n",
    "  \n"
   ]
  },
  {
   "cell_type": "markdown",
   "metadata": {},
   "source": [
    "### Implementation\n",
    "\n",
    "The PyGrid repository consists mainly of 2 folders:\n",
    "\n",
    "#### app\n",
    "\n",
    "`apps` are basically regular Flask servers with a REDIS database. We add to these servers the ability to talk to Grid Workers, store tensors and models on the database to ensure fault tolerance.\n",
    "\n",
    "The idea is that Grid Workers are a way to communicate with an app.\n",
    "\n",
    "#### gateway\n",
    "\n",
    "`gateway` works like a special DNS component but it will route nodes by queries instead of domain names.\n",
    " The Grid Gateway needs to know the addresses and ids of all grid nodes connected on the Grid Network (workers that are all connected to each other).\n",
    "\n",
    "A user can talk to a Grid Gateway and seemingless perform operations on multiple remote nodes without even knowing that they exist on the network.\n"
   ]
  }
 ],
 "metadata": {
  "kernelspec": {
   "display_name": "Python 3",
   "language": "python",
   "name": "python3"
  },
  "language_info": {
   "codemirror_mode": {
    "name": "ipython",
    "version": 3
   },
   "file_extension": ".py",
   "mimetype": "text/x-python",
   "name": "python",
   "nbconvert_exporter": "python",
   "pygments_lexer": "ipython3",
   "version": "3.7.3"
  }
 },
 "nbformat": 4,
 "nbformat_minor": 2
}
