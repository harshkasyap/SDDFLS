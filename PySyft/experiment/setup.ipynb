{
 "cells": [
  {
   "cell_type": "code",
   "execution_count": 424,
   "metadata": {},
   "outputs": [
    {
     "name": "stderr",
     "output_type": "stream",
     "text": [
      "WARNING:root:Torch was already hooked... skipping hooking process\n"
     ]
    }
   ],
   "source": [
    "import torch\n",
    "import syft as sy  # import the Pysyft library\n",
    "hook = sy.TorchHook(torch)  # hook PyTorch to add extra functionalities like Federated and Encrypted Learning\n",
    "\n",
    "class Worker:\n",
    "    def __init__(self, _id, data, target):\n",
    "        self.worker = sy.VirtualWorker(hook, id=_id)\n",
    "        self.data = data.send(_id)\n",
    "        self.target = target.send(_id)"
   ]
  },
  {
   "cell_type": "code",
   "execution_count": 425,
   "metadata": {},
   "outputs": [],
   "source": [
    "alice_data = torch.tensor([[0,0],[1,1.]], requires_grad=True).tag('#boundary', '#toy')\n",
    "alice_target = torch.tensor([[0],[1.]], requires_grad=True).tag('#boundary_target', '#toy_target')\n",
    "\n",
    "alice = Worker('alice', alice_data, alice_target)"
   ]
  },
  {
   "cell_type": "code",
   "execution_count": 426,
   "metadata": {},
   "outputs": [],
   "source": [
    "bob_data = torch.tensor([[0,1],[1,0]]).tag('#middle', '#toy')\n",
    "bob_target = torch.tensor([[0],[1]]).tag('#middle_target', '#toy_target')\n",
    "\n",
    "bob = Worker('bob', bob_data, bob_target)"
   ]
  },
  {
   "cell_type": "code",
   "execution_count": 427,
   "metadata": {},
   "outputs": [],
   "source": [
    "node_data = torch.tensor([[0,0],[1,0]]).tag('#alt', '#toy')\n",
    "node_target = torch.tensor([[0],[1]]).tag('#alt_target', '#toy_target')\n",
    "\n",
    "node = Worker('node', node_data, node_target)"
   ]
  },
  {
   "cell_type": "code",
   "execution_count": 439,
   "metadata": {},
   "outputs": [],
   "source": [
    "check_alice_for_toy = alice.worker.search([\"#toy\"])\n",
    "#check_alice_for_toy"
   ]
  },
  {
   "cell_type": "code",
   "execution_count": 440,
   "metadata": {},
   "outputs": [],
   "source": [
    "check_bob_for_toy = bob.worker.search([\"#toy\"])"
   ]
  },
  {
   "cell_type": "code",
   "execution_count": 430,
   "metadata": {},
   "outputs": [],
   "source": [
    "import copy\n",
    "from torch import nn, optim"
   ]
  },
  {
   "cell_type": "code",
   "execution_count": 441,
   "metadata": {},
   "outputs": [],
   "source": [
    "# Iniitalize A Toy Model\n",
    "model = nn.Linear(2,1)\n",
    "#nodes_model = nn.Linear(2,1)"
   ]
  },
  {
   "cell_type": "code",
   "execution_count": 442,
   "metadata": {},
   "outputs": [
    {
     "name": "stdout",
     "output_type": "stream",
     "text": [
      "tensor(0.6060)\n"
     ]
    }
   ],
   "source": [
    "nodes_model = model.copy().send(node.worker)\n",
    "nodes_opt = optim.SGD(params=node_model.parameters(),lr=0.1)\n",
    "preds = nodes_model(node.data.float())\n",
    "loss = ((preds - node.target.float()) ** 2).sum()\n",
    "print(loss.get().data)"
   ]
  },
  {
   "cell_type": "code",
   "execution_count": 433,
   "metadata": {},
   "outputs": [
    {
     "name": "stdout",
     "output_type": "stream",
     "text": [
      "Bob:tensor(0.0193) Alice:tensor(0.0280)\n",
      "Bob:tensor(0.0084) Alice:tensor(0.0136)\n",
      "Bob:tensor(0.0037) Alice:tensor(0.0079)\n",
      "Bob:tensor(0.0016) Alice:tensor(0.0046)\n",
      "Bob:tensor(0.0007) Alice:tensor(0.0027)\n",
      "Bob:tensor(0.0003) Alice:tensor(0.0016)\n",
      "Bob:tensor(0.0001) Alice:tensor(0.0009)\n",
      "Bob:tensor(6.1581e-05) Alice:tensor(0.0005)\n",
      "Bob:tensor(2.7140e-05) Alice:tensor(0.0003)\n",
      "Bob:tensor(1.1962e-05) Alice:tensor(0.0002)\n"
     ]
    }
   ],
   "source": [
    "iterations = 10\n",
    "worker_iters = 5\n",
    "\n",
    "for a_iter in range(iterations):\n",
    "    \n",
    "    bobs_model = model.copy().send(bob.worker)\n",
    "    alices_model = model.copy().send(alice.worker)\n",
    "\n",
    "    bobs_opt = optim.SGD(params=bobs_model.parameters(),lr=0.1)\n",
    "    alices_opt = optim.SGD(params=alices_model.parameters(),lr=0.1)\n",
    "\n",
    "    for wi in range(worker_iters):\n",
    "\n",
    "        # Train Bob's Model\n",
    "        bobs_opt.zero_grad()\n",
    "        bobs_pred = bobs_model(bob.data.float())\n",
    "        bobs_loss = ((bobs_pred - bob.target.float())**2).sum()\n",
    "        bobs_loss.backward()\n",
    "\n",
    "        bobs_opt.step()\n",
    "        bobs_loss = bobs_loss.get().data\n",
    "\n",
    "        # Train Alice's Model\n",
    "        alices_opt.zero_grad()\n",
    "        alices_pred = alices_model(alice.data)\n",
    "        alices_loss = ((alices_pred - alice.target)**2).sum()\n",
    "        alices_loss.backward()\n",
    "\n",
    "        alices_opt.step()\n",
    "        alices_loss = alices_loss.get().data\n",
    "    \n",
    "    alices_model.move(node.worker)\n",
    "    bobs_model.move(node.worker)\n",
    "    \n",
    "    with torch.no_grad():\n",
    "        model.weight.set_(((alices_model.weight.data + bobs_model.weight.data) / 2).get())\n",
    "        model.bias.set_(((alices_model.bias.data + bobs_model.bias.data) / 2).get())\n",
    "    \n",
    "    print(\"Bob:\" + str(bobs_loss) + \" Alice:\" + str(alices_loss))"
   ]
  },
  {
   "cell_type": "code",
   "execution_count": 434,
   "metadata": {},
   "outputs": [
    {
     "name": "stdout",
     "output_type": "stream",
     "text": [
      "tensor(0.0002)\n"
     ]
    }
   ],
   "source": [
    "nodes_model = model.copy().send(node.worker)\n",
    "nodes_opt = optim.SGD(params=node_model.parameters(),lr=0.1)\n",
    "preds = nodes_model(node.data.float())\n",
    "loss = ((preds - node.target.float()) ** 2).sum()\n",
    "print(loss.get().data)"
   ]
  }
 ],
 "metadata": {
  "kernelspec": {
   "display_name": "Python 3",
   "language": "python",
   "name": "python3"
  },
  "language_info": {
   "codemirror_mode": {
    "name": "ipython",
    "version": 3
   },
   "file_extension": ".py",
   "mimetype": "text/x-python",
   "name": "python",
   "nbconvert_exporter": "python",
   "pygments_lexer": "ipython3",
   "version": "3.7.6"
  }
 },
 "nbformat": 4,
 "nbformat_minor": 4
}
